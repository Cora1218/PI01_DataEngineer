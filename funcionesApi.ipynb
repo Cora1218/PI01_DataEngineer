{
 "cells": [
  {
   "cell_type": "code",
   "execution_count": 1,
   "metadata": {},
   "outputs": [
    {
     "data": {
      "text/plain": [
       "'es_ES.UTF-8'"
      ]
     },
     "execution_count": 1,
     "metadata": {},
     "output_type": "execute_result"
    }
   ],
   "source": [
    "# Importar librerías\n",
    "import pandas as pd \n",
    "import numpy as np\n",
    "import calendar\n",
    "import locale\n",
    "import json\n",
    "import ast\n",
    "import re\n",
    "from sklearn.feature_extraction.text import TfidfVectorizer\n",
    "from sklearn.metrics.pairwise import linear_kernel\n",
    "\n",
    "\n",
    "\n",
    "# Establecer el idioma en español\n",
    "locale.setlocale(locale.LC_ALL, 'es_ES.UTF-8')\n"
   ]
  },
  {
   "cell_type": "code",
   "execution_count": 2,
   "metadata": {},
   "outputs": [
    {
     "name": "stdout",
     "output_type": "stream",
     "text": [
      "<class 'pandas.core.frame.DataFrame'>\n",
      "RangeIndex: 45372 entries, 0 to 45371\n",
      "Data columns (total 21 columns):\n",
      " #   Column                Non-Null Count  Dtype  \n",
      "---  ------                --------------  -----  \n",
      " 0   budget                45370 non-null  float64\n",
      " 1   genres                45370 non-null  object \n",
      " 2   id                    45370 non-null  object \n",
      " 3   original_language     45359 non-null  object \n",
      " 4   overview              44429 non-null  object \n",
      " 5   popularity            45368 non-null  object \n",
      " 6   production_countries  45370 non-null  object \n",
      " 7   release_date          45367 non-null  object \n",
      " 8   revenue               45370 non-null  float64\n",
      " 9   runtime               45121 non-null  float64\n",
      " 10  spoken_languages      45367 non-null  object \n",
      " 11  status                45287 non-null  object \n",
      " 12  tagline               20395 non-null  object \n",
      " 13  title                 45367 non-null  object \n",
      " 14  vote_average          45367 non-null  float64\n",
      " 15  release_year          45370 non-null  float64\n",
      " 16  return                45370 non-null  float64\n",
      " 17  id.1                  4491 non-null   float64\n",
      " 18  name                  4491 non-null   object \n",
      " 19  id_production         33573 non-null  object \n",
      " 20  name_production       33573 non-null  object \n",
      "dtypes: float64(7), object(14)\n",
      "memory usage: 7.3+ MB\n"
     ]
    },
    {
     "name": "stderr",
     "output_type": "stream",
     "text": [
      "C:\\Users\\cora1\\AppData\\Local\\Temp\\ipykernel_31140\\2221441072.py:2: DtypeWarning: Columns (5) have mixed types. Specify dtype option on import or set low_memory=False.\n",
      "  df = pd.read_csv(\"Dataset/movies_final.csv\")\n"
     ]
    }
   ],
   "source": [
    "# Cargar el csv a utilizar y ponerlo en un df\n",
    "df = pd.read_csv(\"Dataset/movies_final.csv\")\n",
    "df.head()\n",
    "df.info()"
   ]
  },
  {
   "attachments": {},
   "cell_type": "markdown",
   "metadata": {},
   "source": [
    "********** FUNCIONES **********"
   ]
  },
  {
   "attachments": {},
   "cell_type": "markdown",
   "metadata": {},
   "source": [
    "# 1er función:\n",
    "def peliculas_mes(mes): '''Se ingresa el mes y la funcion retorna la cantidad de peliculas que se estrenaron ese mes historicamente'''\n",
    "return {'mes':mes, 'cantidad':respuesta}"
   ]
  },
  {
   "cell_type": "code",
   "execution_count": 3,
   "metadata": {},
   "outputs": [
    {
     "data": {
      "text/plain": [
       "'Mes: octubre, Cantidad: 4614'"
      ]
     },
     "execution_count": 3,
     "metadata": {},
     "output_type": "execute_result"
    }
   ],
   "source": [
    "def peliculas_mes(mes):\n",
    "        # Convertir la columna \"release_date\" de object a datetime\n",
    "        df['release_date'] = pd.to_datetime(df['release_date'], format='%Y-%m-%d', errors='coerce') # Se reemplaza las fechas dejando de lado los errores\n",
    "        # Crear la columna release_month donde se extraerá el mes de la fecha de estreno.\n",
    "        df['release_month'] = df['release_date'].apply(lambda x: x.month if x is not pd.NaT else None)\n",
    "        df['release_month'] = df['release_month'].fillna(0).astype(int)\n",
    "        meses = dict(enumerate(calendar.month_name))\n",
    "        df['release_month'] = df['release_month'].map(meses)\n",
    "        #meses = { i+1: calendar.month_name[i+1] for i in range(12) }\n",
    "        #meses\n",
    "        cantidad = df[df[\"release_month\"] == mes][\"release_month\"].count()\n",
    "        return f'Mes: {mes}, Cantidad: {cantidad}'\n",
    "\n",
    "peliculas_mes('octubre')"
   ]
  },
  {
   "attachments": {},
   "cell_type": "markdown",
   "metadata": {},
   "source": [
    "# 2da Función:\n",
    "def peliculas_dia(dia): '''Se ingresa el dia y la funcion retorna la cantidad de peliculas que se estrenaron ese dia historicamente''' return {'dia':dia, 'cantidad':respuesta}"
   ]
  },
  {
   "cell_type": "code",
   "execution_count": 4,
   "metadata": {},
   "outputs": [
    {
     "data": {
      "text/plain": [
       "'Día: martes, Cantidad: 4640'"
      ]
     },
     "execution_count": 4,
     "metadata": {},
     "output_type": "execute_result"
    }
   ],
   "source": [
    "def peliculas_dia(dia):\n",
    "    # Convertir la columna \"release_date\" de object a datetime\n",
    "    df['release_date'] = pd.to_datetime(df['release_date'], format='%Y-%m-%d', errors='coerce') # Se reemplaza las fechas dejando de lado los errores\n",
    "        \n",
    "    # Crear la columna release_day donde se extraerá el día de la fecha de estreno\n",
    "    # df['release_day'] = df['release_date'].apply(lambda x: x.day if x is not pd.NaT else None)\n",
    "    # df['release_day'] = df['release_day'].fillna(0).astype(int)\n",
    "    #Para sacar la columna días de la semana:\n",
    "\n",
    "    df[\"release_day\"] = df['release_date'].dt.strftime('%A').apply(lambda x: x if type(x) != float else x)\n",
    "    df[\"release_day\"]\n",
    "    respuesta = df[df[\"release_day\"] == dia][\"release_day\"].count()\n",
    "    return f'Día: {dia}, Cantidad: {respuesta}' \n",
    "\n",
    "peliculas_dia('martes')\n"
   ]
  },
  {
   "attachments": {},
   "cell_type": "markdown",
   "metadata": {},
   "source": [
    "# 3ra Función:\n",
    "def franquicia(franquicia): '''Se ingresa la franquicia, retornando la cantidad de peliculas, ganancia total y promedio''' return {'franquicia':franquicia, 'cantidad':respuesta, 'ganancia_total':respuesta, 'ganancia_promedio':respuesta}\n"
   ]
  },
  {
   "cell_type": "code",
   "execution_count": 5,
   "metadata": {},
   "outputs": [
    {
     "data": {
      "text/plain": [
       "'Franquicia: Toy Story Collection, Cantidad: 3, Ganancia Total: 343554033.0, Ganancia Promedio: 373554032.0'"
      ]
     },
     "execution_count": 5,
     "metadata": {},
     "output_type": "execute_result"
    }
   ],
   "source": [
    "def franquicia(franquicia):\n",
    "    # Filtramos las filas que pertenecen a la franquicia deseada y contamos cuántas filas hay en el resultado filtrado.\n",
    "    cantidad = df[df['name'] == franquicia].shape[0]\n",
    "    \n",
    "    df_franquicia = df[df['name'] == franquicia] # Filtra la franquicia solicitada\n",
    "\n",
    "    # Calculamos la ganancia total\n",
    "    gananciaTotal = (df_franquicia['revenue'] - df_franquicia['budget']).sum()\n",
    "    gananciaPromedio = (df_franquicia['revenue'] - df_franquicia['budget'] / df_franquicia['budget']).mean()\n",
    "\n",
    "    return f'Franquicia: {franquicia}, Cantidad: {cantidad}, Ganancia Total: {gananciaTotal}, Ganancia Promedio: {gananciaPromedio}'\n",
    "\n",
    "franquicia(\"Toy Story Collection\")"
   ]
  },
  {
   "attachments": {},
   "cell_type": "markdown",
   "metadata": {},
   "source": [
    "# 4ta Función:\n",
    "def peliculas_pais(pais): '''Ingresas el pais, retornando la cantidad de peliculas producidas en el mismo''' return {'pais':pais, 'cantidad':respuesta}"
   ]
  },
  {
   "cell_type": "code",
   "execution_count": 6,
   "metadata": {},
   "outputs": [
    {
     "data": {
      "text/plain": [
       "'pais: United States of America, cantidad:45372'"
      ]
     },
     "execution_count": 6,
     "metadata": {},
     "output_type": "execute_result"
    }
   ],
   "source": [
    "def peliculas_pais(pais):\n",
    "    \n",
    "    mask = df['production_countries'].str.join(',').str.contains(pais, na=False)\n",
    "   \n",
    "    can = mask.count()\n",
    "    # cantidad = df[mask]['title'].count()\n",
    "\n",
    "    return f'pais: {pais}, cantidad:{can}'\n",
    "\n",
    "peliculas_pais('United States of America')"
   ]
  },
  {
   "attachments": {},
   "cell_type": "markdown",
   "metadata": {},
   "source": [
    "# 5ta Función:\n",
    "def productoras(productora): '''Ingresas la productora, retornando la ganancia total y la cantidad de peliculas que produjeron''' return {'productora':productora, 'ganancia_total':respuesta, 'cantidad':respuesta}"
   ]
  },
  {
   "cell_type": "code",
   "execution_count": 7,
   "metadata": {},
   "outputs": [
    {
     "data": {
      "text/plain": [
       "{'productora': 'Warner Bros.',\n",
       " 'ganancia_total': 317932254772.0,\n",
       " 'cantidad': 33573}"
      ]
     },
     "execution_count": 7,
     "metadata": {},
     "output_type": "execute_result"
    }
   ],
   "source": [
    "def productoras(productora):\n",
    "    prod = df[['name_production', 'budget', 'revenue']].dropna()\n",
    "    prod ['name_production'] = prod['name_production'].map(str.lower)\n",
    "    cantidad = prod.shape[0]\n",
    "    gtotal= (prod['revenue'] - prod['budget']).sum()\n",
    "    return {'productora':productora, 'ganancia_total': gtotal, 'cantidad': cantidad } \n",
    "\n",
    "productoras('Warner Bros.')"
   ]
  },
  {
   "attachments": {},
   "cell_type": "markdown",
   "metadata": {},
   "source": [
    "# Función 6\n",
    "def retorno(pelicula): '''Ingresas la pelicula, retornando la inversion, la ganancia, el retorno y el año en el que se lanzo''' return {'pelicula':pelicula, 'inversion':respuesta, 'ganacia':respuesta,'retorno':respuesta, 'anio':respuesta}"
   ]
  },
  {
   "cell_type": "code",
   "execution_count": 8,
   "metadata": {},
   "outputs": [
    {
     "data": {
      "text/plain": [
       "{'pelicula': 'Toy Story',\n",
       " 'inversion': 30000000.0,\n",
       " 'ganancia': 343554033.0,\n",
       " 'retorno': 11.4518011,\n",
       " 'anio': 1995}"
      ]
     },
     "execution_count": 8,
     "metadata": {},
     "output_type": "execute_result"
    }
   ],
   "source": [
    "def retorno(pelicula):\n",
    "    pelicula_data = df[df['title'] == pelicula]\n",
    "    if len(pelicula_data) == 0:\n",
    "        return f\"No se encontró la película {pelicula}\"\n",
    "    inversion = pelicula_data['budget'].iloc[0]\n",
    "    ganancia = pelicula_data['revenue'].iloc[0] - inversion\n",
    "    retorno = ganancia / inversion if inversion > 0 else 0\n",
    "    anio = int(pelicula_data['release_year'])\n",
    "    return {'pelicula': pelicula, 'inversion': inversion, 'ganancia': ganancia, 'retorno': retorno, 'anio': anio}\n",
    "\n",
    "retorno('Toy Story')"
   ]
  },
  {
   "attachments": {},
   "cell_type": "markdown",
   "metadata": {},
   "source": [
    "# Función 7 ML\n",
    "def recomendacion('titulo'): '''Ingresas un nombre de película y te recomienda las similares en una lista de 5 valores''' return {'lista recomendada': respuesta}"
   ]
  },
  {
   "cell_type": "code",
   "execution_count": 9,
   "metadata": {},
   "outputs": [
    {
     "data": {
      "text/plain": [
       "{'lista recomendada': ['Toy Story 2',\n",
       "  'The Champ',\n",
       "  'Rebel Without a Cause',\n",
       "  'Man on the Moon',\n",
       "  'Malice']}"
      ]
     },
     "execution_count": 9,
     "metadata": {},
     "output_type": "execute_result"
    }
   ],
   "source": [
    "def recomendacion(titulo): # Toma como parámetro el título de una película y retorna una lista de 5 películas recomendadas de acuerdo al título \n",
    "    df = pd.read_csv('Dataset/movies_ML.csv')\n",
    "    \n",
    "    tfidf = TfidfVectorizer(stop_words = 'english') #  Crea una instancia del objeto TfidfVectorizer que se utiliza para calcular la matriz\n",
    "    df['overview'] = df['overview'].fillna('') # Rellena los valores faltantes (nulos) en la columna 'overview' del DataFrame 'df' con una cadena vacía ('')\n",
    "\n",
    "    tfidf_matriz = tfidf.fit_transform(df['overview'])\n",
    "    coseno_sim = linear_kernel(tfidf_matriz, tfidf_matriz) # Se utiliza para calcular la similitud de coseno\n",
    "                                                           # La similitud de coseno es una medida comúnmente utilizada en procesamiento de texto para determinar la similitud entre dos documentos basándose en sus representaciones vectoriales\n",
    "    indices = pd.Series(df.index, index=df['title']).drop_duplicates()\n",
    "    idx = indices[titulo] # Obtiene el índice correspondiente a un título de película específico en el objeto Series de índices creado anteriormente\n",
    "\n",
    "    # Obtener el puntaje de similitud de esa pelicula con todas las películas\n",
    "    simil = list(enumerate(coseno_sim[idx]))\n",
    "\n",
    "    # Ordena las películas de acuerdo a su puntaje de similitud\n",
    "    simil = sorted(simil, key=lambda x: x[1], reverse =True)\n",
    "\n",
    "    # Obtiene el puntaje de similitud de 10 películas\n",
    "    simil = simil[1:11]\n",
    "    \n",
    "    # Obtiene los índices \n",
    "    movie_index = [i[0] for i in simil]\n",
    "\n",
    "    # Retorna 5 películas\n",
    "    lista = df['title'].iloc[movie_index].to_list()[:5] \n",
    "      \n",
    "    return {'lista recomendada': lista}\n",
    "\n",
    "recomendacion('Toy Story')"
   ]
  }
 ],
 "metadata": {
  "kernelspec": {
   "display_name": "Python 3",
   "language": "python",
   "name": "python3"
  },
  "language_info": {
   "codemirror_mode": {
    "name": "ipython",
    "version": 3
   },
   "file_extension": ".py",
   "mimetype": "text/x-python",
   "name": "python",
   "nbconvert_exporter": "python",
   "pygments_lexer": "ipython3",
   "version": "3.10.7"
  },
  "orig_nbformat": 4
 },
 "nbformat": 4,
 "nbformat_minor": 2
}
