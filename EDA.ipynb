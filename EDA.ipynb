{
 "cells": [
  {
   "cell_type": "code",
   "execution_count": null,
   "metadata": {},
   "outputs": [],
   "source": [
    "# Importar librerías \n",
    "import pandas as pd\n",
    "import numpy as np\n",
    "import matplotlib.pylab as plt\n",
    "import seaborn as sns\n",
    "plt.style.use('ggplot')\n",
    "pd.set_option('display.max_columns', 50)"
   ]
  },
  {
   "cell_type": "code",
   "execution_count": null,
   "metadata": {},
   "outputs": [],
   "source": [
    "# Importar la base de datos a utilizar (movies_dataset.csv) y leer los datos\n",
    "df = pd.read_csv('Dataset/movies_dataset.csv')"
   ]
  },
  {
   "cell_type": "code",
   "execution_count": null,
   "metadata": {},
   "outputs": [],
   "source": [
    "df.shape # Ver cuantos renglones y columnas hay en df"
   ]
  },
  {
   "cell_type": "code",
   "execution_count": null,
   "metadata": {},
   "outputs": [],
   "source": [
    "df.head(5) # Ver las 5 primeros renglones del df"
   ]
  },
  {
   "cell_type": "code",
   "execution_count": null,
   "metadata": {},
   "outputs": [],
   "source": [
    "df.columns"
   ]
  },
  {
   "cell_type": "code",
   "execution_count": null,
   "metadata": {},
   "outputs": [],
   "source": [
    "# Seleccionar solo las columnas que son importantes para el modelo\n",
    "df = df[[#'adult', 'belongs_to_collection', 'budget', \n",
    "         #'genres',\n",
    "#'homepage', 'id',\n",
    "#       'imdb_id', 'original_language', 'original_title', \n",
    "    'overview',\n",
    "    #'popularity', \n",
    "#'poster_path', 'production_companies',\n",
    "#       'production_countries', 'release_date', 'revenue', 'runtime',\n",
    "#       'spoken_languages', 'status', 'tagline', \n",
    "'title'\n",
    "#'video',\n",
    "#'vote_average'\n",
    "# 'vote_count'\n",
    "]] # Ver las columnas del df"
   ]
  },
  {
   "cell_type": "code",
   "execution_count": null,
   "metadata": {},
   "outputs": [],
   "source": [
    "df.dtypes # Ver el tipo de dato de cada columna"
   ]
  },
  {
   "cell_type": "code",
   "execution_count": null,
   "metadata": {},
   "outputs": [],
   "source": [
    "df.describe() # Ver la estadística descriptiva del df"
   ]
  },
  {
   "cell_type": "code",
   "execution_count": null,
   "metadata": {},
   "outputs": [],
   "source": [
    "# Desanidar la columna genres que está en forma de lista y dentro de ella { diccionarios}\n",
    "df2 = pd.json_normalize(df['genres'].map(eval))"
   ]
  },
  {
   "cell_type": "code",
   "execution_count": null,
   "metadata": {},
   "outputs": [],
   "source": [
    "df2.head()"
   ]
  },
  {
   "cell_type": "code",
   "execution_count": null,
   "metadata": {},
   "outputs": [],
   "source": [
    "Id = []\n",
    "Names = []\n",
    "for i in range(8):\n",
    "    nid = 'id'+ str(i)\n",
    "    nam = 'name' + str(i)\n",
    "    Id.append(nid)\n",
    "    Names.append(nam)\n",
    "    df2[nid] = pd.json_normalize(df2[i])['id']\n",
    "    df2[nam] = pd.json_normalize(df2[i])['name']"
   ]
  },
  {
   "cell_type": "code",
   "execution_count": null,
   "metadata": {},
   "outputs": [],
   "source": [
    "col = list(range(8)) # Se crea una variable con el rango de la lista"
   ]
  },
  {
   "cell_type": "code",
   "execution_count": null,
   "metadata": {},
   "outputs": [],
   "source": [
    "df2.drop(columns=col, inplace=True) # Dropear ya que se desanidaron"
   ]
  },
  {
   "cell_type": "code",
   "execution_count": null,
   "metadata": {},
   "outputs": [],
   "source": [
    "df2['id_genres'] = df2[Id].apply(\n",
    "    lambda x: ',' .join(x.dropna().astype(str)),\n",
    "    axis = 1)"
   ]
  },
  {
   "cell_type": "code",
   "execution_count": null,
   "metadata": {},
   "outputs": [],
   "source": [
    "df2['name_genres'] = df2[Names].apply(\n",
    "    lambda x: ',' .join(x.dropna().astype(str)),\n",
    "    axis = 1)"
   ]
  },
  {
   "cell_type": "code",
   "execution_count": null,
   "metadata": {},
   "outputs": [],
   "source": [
    "df2"
   ]
  },
  {
   "cell_type": "code",
   "execution_count": null,
   "metadata": {},
   "outputs": [],
   "source": [
    "df2['id_genres'].replace('', np.nan, inplace=True) # Reemplaza cualquier cadena vacía en la columna 'id_genres' del DataFrame 'df2' con el valor NaN \n",
    "df2['name_genres'].replace('', np.nan, inplace=True)"
   ]
  },
  {
   "cell_type": "code",
   "execution_count": null,
   "metadata": {},
   "outputs": [],
   "source": [
    "df2"
   ]
  },
  {
   "cell_type": "code",
   "execution_count": null,
   "metadata": {},
   "outputs": [],
   "source": [
    "df2.drop(columns = Id, inplace = True)\n",
    "df2.drop(columns = Names, inplace = True)\n",
    "df2"
   ]
  },
  {
   "cell_type": "code",
   "execution_count": null,
   "metadata": {},
   "outputs": [],
   "source": [
    "df2.isna().sum()"
   ]
  },
  {
   "cell_type": "code",
   "execution_count": null,
   "metadata": {},
   "outputs": [],
   "source": [
    "# Se concatenan las columnas nuevas al df original\n",
    "df_final = pd.concat([df, df2], axis=1)"
   ]
  },
  {
   "cell_type": "code",
   "execution_count": null,
   "metadata": {},
   "outputs": [],
   "source": [
    "df_final"
   ]
  },
  {
   "cell_type": "code",
   "execution_count": null,
   "metadata": {},
   "outputs": [],
   "source": [
    "# Se eliminan la columna genres que ya fue desanidada\n",
    "df_final.drop(columns=['genres', 'id_genres'], inplace=True)"
   ]
  },
  {
   "cell_type": "code",
   "execution_count": null,
   "metadata": {},
   "outputs": [],
   "source": [
    "df_final.dtypes"
   ]
  },
  {
   "cell_type": "code",
   "execution_count": null,
   "metadata": {},
   "outputs": [],
   "source": [
    "df_final['popularity'] = pd.to_numeric(df_final['popularity'], errors='coerce')\n"
   ]
  },
  {
   "cell_type": "code",
   "execution_count": null,
   "metadata": {},
   "outputs": [],
   "source": [
    "# Verificar si hay valores nulos\n",
    "df_final.isna().sum()"
   ]
  },
  {
   "cell_type": "code",
   "execution_count": null,
   "metadata": {},
   "outputs": [],
   "source": [
    "# Eliminar valores duplicados\n",
    "# df.loc[df.duplicated()]\n",
    "df_final.duplicated().sum()"
   ]
  },
  {
   "cell_type": "code",
   "execution_count": null,
   "metadata": {},
   "outputs": [],
   "source": [
    "df.duplicated().sum()"
   ]
  },
  {
   "cell_type": "code",
   "execution_count": null,
   "metadata": {},
   "outputs": [],
   "source": [
    "df_final = df_final.drop_duplicates().reset_index(drop=True)\n"
   ]
  },
  {
   "cell_type": "code",
   "execution_count": null,
   "metadata": {},
   "outputs": [],
   "source": [
    "df = df.drop_duplicates().reset_index(drop=True)\n"
   ]
  },
  {
   "cell_type": "code",
   "execution_count": null,
   "metadata": {},
   "outputs": [],
   "source": [
    "df_final"
   ]
  },
  {
   "cell_type": "code",
   "execution_count": null,
   "metadata": {},
   "outputs": [],
   "source": [
    "df"
   ]
  },
  {
   "cell_type": "code",
   "execution_count": null,
   "metadata": {},
   "outputs": [],
   "source": [
    "# Distribución de características\n",
    "# Serie que indica la frecuencia de ocurrencia de cada título de película en el DataFrame\n",
    "ax = df_final['title'].value_counts().head(10).plot(kind = 'bar', title=\"Top 10 Movie Title\")\n",
    "ax.set_xlabel(\"Movie Title\")\n",
    "ax.set_ylabel(\"Count\")"
   ]
  },
  {
   "cell_type": "code",
   "execution_count": null,
   "metadata": {},
   "outputs": [],
   "source": [
    "ax = df_final['popularity'].value_counts().head(10).plot(kind = 'bar', title='Popularity')\n",
    "ax.set_xlabel('Popularity')\n",
    "ax.set_ylabel(\"Count\")"
   ]
  },
  {
   "cell_type": "code",
   "execution_count": null,
   "metadata": {},
   "outputs": [],
   "source": [
    "ax = df_final['vote_average'].value_counts().head(10).plot(kind = 'bar', title='Vote Average')\n",
    "ax.set_xlabel('Vote Average')\n",
    "ax.set_ylabel(\"Count\")"
   ]
  },
  {
   "cell_type": "code",
   "execution_count": null,
   "metadata": {},
   "outputs": [],
   "source": [
    "ax = df_final['name_genres'].value_counts().head(10).plot(kind = 'bar', title='Name Genres')\n",
    "ax.set_xlabel('Name Genres')\n",
    "ax.set_ylabel(\"Count\")"
   ]
  },
  {
   "cell_type": "code",
   "execution_count": null,
   "metadata": {},
   "outputs": [],
   "source": [
    "# Relación de características\n",
    "df_final.plot(kind = 'scatter', \n",
    "              x = 'vote_average',\n",
    "              y = 'popularity',\n",
    "              title = 'vote_average VS popularity')\n",
    "plt.show()"
   ]
  },
  {
   "cell_type": "code",
   "execution_count": null,
   "metadata": {},
   "outputs": [],
   "source": [
    "sns.scatterplot(x = 'vote_average',\n",
    "              y = 'popularity',\n",
    "              data=df_final)"
   ]
  },
  {
   "cell_type": "code",
   "execution_count": null,
   "metadata": {},
   "outputs": [],
   "source": [
    "df_final[['popularity', 'vote_average']].dropna().corr() # Ver la correlación netre variables"
   ]
  },
  {
   "cell_type": "code",
   "execution_count": null,
   "metadata": {},
   "outputs": [],
   "source": [
    "# Obtener el conteo de películas por popularidad\n",
    "popularity_counts = df_final['popularity'].value_counts()\n",
    "# Ordenar por popularidad\n",
    "popularity_counts = popularity_counts.sort_index()\n",
    "\n",
    "# Graficar\n",
    "plt.plot(popularity_counts.index, popularity_counts.values)\n",
    "plt.xlabel('Popularity')\n",
    "plt.ylabel('Number of Movies')\n",
    "plt.show()"
   ]
  },
  {
   "cell_type": "code",
   "execution_count": null,
   "metadata": {},
   "outputs": [],
   "source": [
    "# Guardar el df_final en un archivo csv llamado \n",
    "#df_final.to_csv('Dataset\\movies_ML.csv', index=False)"
   ]
  },
  {
   "cell_type": "code",
   "execution_count": null,
   "metadata": {},
   "outputs": [],
   "source": [
    "#df = df.sample(n=9000)  # Toma una muestra aleatoria de 10,000 registros\n",
    "df = df.head(9000)\n",
    "\n",
    "# Reindexar el DataFrame de muestra\n",
    "df = df.reset_index(drop=True)\n",
    "df"
   ]
  },
  {
   "cell_type": "code",
   "execution_count": null,
   "metadata": {},
   "outputs": [],
   "source": [
    "df.to_csv('Dataset\\movies_ML.csv', index=False)"
   ]
  }
 ],
 "metadata": {
  "kernelspec": {
   "display_name": "Python 3",
   "language": "python",
   "name": "python3"
  },
  "language_info": {
   "codemirror_mode": {
    "name": "ipython",
    "version": 3
   },
   "file_extension": ".py",
   "mimetype": "text/x-python",
   "name": "python",
   "nbconvert_exporter": "python",
   "pygments_lexer": "ipython3",
   "version": "3.10.7"
  },
  "orig_nbformat": 4
 },
 "nbformat": 4,
 "nbformat_minor": 2
}
